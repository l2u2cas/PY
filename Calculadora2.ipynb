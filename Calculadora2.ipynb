{
  "nbformat": 4,
  "nbformat_minor": 0,
  "metadata": {
    "colab": {
      "provenance": [],
      "authorship_tag": "ABX9TyMpKPO1UwJP+ofmx/eiVRfT",
      "include_colab_link": true
    },
    "kernelspec": {
      "name": "python3",
      "display_name": "Python 3"
    },
    "language_info": {
      "name": "python"
    }
  },
  "cells": [
    {
      "cell_type": "markdown",
      "metadata": {
        "id": "view-in-github",
        "colab_type": "text"
      },
      "source": [
        "<a href=\"https://colab.research.google.com/github/l2u2cas/PY/blob/main/Calculadora2.ipynb\" target=\"_parent\"><img src=\"https://colab.research.google.com/assets/colab-badge.svg\" alt=\"Open In Colab\"/></a>"
      ]
    },
    {
      "cell_type": "code",
      "execution_count": null,
      "metadata": {
        "id": "VXTCFmJl5o-g"
      },
      "outputs": [],
      "source": [
        "\n",
        "def calculadora(n1, n2, operacao):\n",
        "    resultado = 0\n",
        "    if (operacao == 1):\n",
        "      resultado = n1 + n2\n",
        "\n",
        "    elif (operacao == 2):\n",
        "       resultado = n1 - n2\n",
        "\n",
        "    elif (operacao) == 3:\n",
        "       resultado = n1 * n2\n",
        "\n",
        "    elif (operacao == 4 and n2 != 0):\n",
        "       resultado = n1 / n2\n",
        "\n",
        "    return  resultado\n",
        "\n",
        "menu = \"\"\"\n",
        " 1. Soma\n",
        " 2. Subtracao\n",
        " 3. Multiplicacao\n",
        " 4. Divisao\n",
        " 0. Sair\n",
        "  \"\"\"\n",
        "\n",
        "\n",
        "\n",
        "while (True):\n",
        "\n",
        "    operacao = int(input(f\"\"\"Digite a operação : {menu}\"\"\" ))\n",
        "    if (operacao == 0):\n",
        "        break\n",
        "\n",
        "    num1 =  int (input(\"Digite o primeiro nº \"))\n",
        "    num2 =  int (input(\"Digite o segundo nº \"))\n",
        "\n",
        "    resultado =  calculadora(num1, num2, operacao)\n",
        "    print(\"Resultado é:\" , resultado)\n",
        "\n",
        "\n",
        "\n",
        "\n"
      ]
    }
  ]
}