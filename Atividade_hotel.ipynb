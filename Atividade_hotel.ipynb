{
  "nbformat": 4,
  "nbformat_minor": 0,
  "metadata": {
    "colab": {
      "provenance": [],
      "authorship_tag": "ABX9TyO7y/ijXNOBYtNwaZoAGOY2",
      "include_colab_link": true
    },
    "kernelspec": {
      "name": "python3",
      "display_name": "Python 3"
    },
    "language_info": {
      "name": "python"
    }
  },
  "cells": [
    {
      "cell_type": "markdown",
      "metadata": {
        "id": "view-in-github",
        "colab_type": "text"
      },
      "source": [
        "<a href=\"https://colab.research.google.com/github/l2u2cas/PY/blob/main/Atividade_hotel.ipynb\" target=\"_parent\"><img src=\"https://colab.research.google.com/assets/colab-badge.svg\" alt=\"Open In Colab\"/></a>"
      ]
    },
    {
      "cell_type": "code",
      "source": [
        "andares = 0\n",
        "while andares < 20:\n",
        "    andares += 1\n",
        "\n",
        "    if andares == 13:\n",
        "        continue\n",
        "\n",
        "    print(andares)\n",
        "    print(\"Meu andar é\")\n"
      ],
      "metadata": {
        "id": "X5tU0tlQQyIR"
      },
      "execution_count": null,
      "outputs": []
    },
    {
      "cell_type": "code",
      "source": [
        "for andares in range(20,0,-1):\n",
        "         print(andares)"
      ],
      "metadata": {
        "id": "lcASDxrOXgKQ"
      },
      "execution_count": null,
      "outputs": []
    },
    {
      "cell_type": "code",
      "source": [
        "for andares in range(21):\n",
        "    if andares == 13:\n",
        "\n",
        "\n",
        "        continue\n",
        "    else:\n",
        "        print(andares)\n",
        "\n",
        ""
      ],
      "metadata": {
        "id": "I0VPifJ5X21V"
      },
      "execution_count": null,
      "outputs": []
    }
  ]
}