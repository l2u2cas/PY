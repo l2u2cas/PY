{
  "nbformat": 4,
  "nbformat_minor": 0,
  "metadata": {
    "colab": {
      "provenance": [],
      "authorship_tag": "ABX9TyMDYOQVEZ5P0TYcLhljNvpj",
      "include_colab_link": true
    },
    "kernelspec": {
      "name": "python3",
      "display_name": "Python 3"
    },
    "language_info": {
      "name": "python"
    }
  },
  "cells": [
    {
      "cell_type": "markdown",
      "metadata": {
        "id": "view-in-github",
        "colab_type": "text"
      },
      "source": [
        "<a href=\"https://colab.research.google.com/github/l2u2cas/PY/blob/main/Calculadora.ipynb\" target=\"_parent\"><img src=\"https://colab.research.google.com/assets/colab-badge.svg\" alt=\"Open In Colab\"/></a>"
      ]
    },
    {
      "cell_type": "code",
      "execution_count": 23,
      "metadata": {
        "id": "VXTCFmJl5o-g"
      },
      "outputs": [],
      "source": [
        "def calculadora(n1, n2, operacao):\n",
        "    if operacao == \"+\":\n",
        "       return n1 + n2\n",
        "\n",
        "    if operacao == \"-\":\n",
        "       return n1 - n2\n",
        "\n",
        "    if operacao == \"*\":\n",
        "       return n1 * n2\n",
        "\n",
        "    if operacao == \"/\":\n",
        "      return n1 / n2\n",
        "\n",
        "    else:\n",
        "        return 0\n",
        "\n",
        "    resultado=(n1,n2,operacao)\n",
        "\n",
        "    print(resultado)\n",
        "\n",
        ""
      ]
    }
  ]
}