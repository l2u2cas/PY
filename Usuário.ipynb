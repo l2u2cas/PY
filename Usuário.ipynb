{
  "nbformat": 4,
  "nbformat_minor": 0,
  "metadata": {
    "colab": {
      "provenance": [],
      "authorship_tag": "ABX9TyOG2Q+pFowe0A7nzQczZpWI",
      "include_colab_link": true
    },
    "kernelspec": {
      "name": "python3",
      "display_name": "Python 3"
    },
    "language_info": {
      "name": "python"
    }
  },
  "cells": [
    {
      "cell_type": "markdown",
      "metadata": {
        "id": "view-in-github",
        "colab_type": "text"
      },
      "source": [
        "<a href=\"https://colab.research.google.com/github/l2u2cas/PY/blob/main/Usu%C3%A1rio.ipynb\" target=\"_parent\"><img src=\"https://colab.research.google.com/assets/colab-badge.svg\" alt=\"Open In Colab\"/></a>"
      ]
    },
    {
      "cell_type": "code",
      "execution_count": 25,
      "metadata": {
        "id": "zmJr-Xmci9cd"
      },
      "outputs": [],
      "source": [
        "def nome():\n",
        "    nome = (input(\"Escreva seu nome completo:\"))\n",
        "    return nome\n",
        "\n",
        "\n",
        "def nascimento():\n",
        "\n",
        "    while True:\n",
        "       try:\n",
        "        nascimento = int(input(\"Digite o ano de nascimento entre 1922 e 2021.\"))\n",
        "        if 1922 <= nascimento <= 2021:\n",
        "          return nascimento\n",
        "\n",
        "        else:\n",
        "          print(\"Erro , por favor digite um número entre 1922 e 2021.\")\n",
        "\n",
        "       except:\n",
        "          print(\"ERRO!! Digite o ano em números\")\n",
        "\n",
        "def calcular_Idade():\n",
        "     name = nome()\n",
        "     ano_nascimento = nascimento()\n",
        "     ano = 2021\n",
        "     idade = str(ano - ano_nascimento)\n",
        "     mensagem = \"Seu nome é \" + name  , \"você tem \" + idade + \" anos  de idade\"\n",
        "     return mensagem\n",
        "\n",
        "\n",
        "\n",
        "\n",
        "\n",
        "\n",
        "\n",
        "\n",
        "\n",
        "\n",
        "\n",
        "\n",
        "\n",
        "\n",
        "\n",
        "\n",
        "\n",
        "\n",
        "\n"
      ]
    },
    {
      "cell_type": "code",
      "source": [
        "calcular_Idade()"
      ],
      "metadata": {
        "id": "1b6cvnE87-Gb"
      },
      "execution_count": null,
      "outputs": []
    }
  ]
}